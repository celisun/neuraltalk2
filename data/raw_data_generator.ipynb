{
 "cells": [
  {
   "cell_type": "code",
   "execution_count": 10,
   "metadata": {},
   "outputs": [],
   "source": [
    "import json\n",
    "import os\n",
    "\n",
    "# create the json blob for dataset\n",
    "# we have 10000 images for train/val split and 2000 for test\n",
    "# we later split to 9000 for train 1000 for val\n",
    "out = []\n",
    "for i in range(10000):\n",
    "    imgid = i\n",
    "    \n",
    "    # they store train/val images separately\n",
    "    loc = 'images_train'\n",
    "    name = str(imgid) + \".jpg\"\n",
    "    caption_loc = \"descriptions_train\"\n",
    "    caption_name = str(imgid) + \".txt\"\n",
    "    \n",
    "    jimg = {}\n",
    "    jimg['file_path'] = os.path.join(loc, name)\n",
    "    jimg['id'] = imgid\n",
    "    \n",
    "    f = open(os.path.join(caption_loc, caption_name)) \n",
    "    sents = [line.replace(\"\\n\", \"\") for line in f]  # get caption sentenses\n",
    "    jimg['captions'] = sents\n",
    "    out.append(jimg)\n",
    "    \n",
    "json.dump(out, open('data_raw.json', 'w'))"
   ]
  },
  {
   "cell_type": "code",
   "execution_count": 20,
   "metadata": {},
   "outputs": [
    {
     "name": "stdout",
     "output_type": "stream",
     "text": [
      "{'file_path': 'images_train\\\\0.jpg', 'id': 0, 'captions': ['The skateboarder is putting on a show using the picnic table as his stage.', 'A skateboarder pulling tricks on top of a picnic table.', 'A man riding on a skateboard on top of a table.', 'A skate boarder doing a trick on a picnic table.', 'A person is riding a skateboard on a picnic table with a crowd watching.']}\n"
     ]
    }
   ],
   "source": [
    "# lets see what they look like\n",
    "print (out[0])"
   ]
  },
  {
   "cell_type": "code",
   "execution_count": 15,
   "metadata": {},
   "outputs": [],
   "source": [
    "for i in out: \n",
    "    if not i['captions']: \n",
    "        print (i)\n"
   ]
  },
  {
   "cell_type": "code",
   "execution_count": null,
   "metadata": {},
   "outputs": [],
   "source": []
  }
 ],
 "metadata": {
  "kernelspec": {
   "display_name": "Python 3",
   "language": "python",
   "name": "python3"
  },
  "language_info": {
   "codemirror_mode": {
    "name": "ipython",
    "version": 3
   },
   "file_extension": ".py",
   "mimetype": "text/x-python",
   "name": "python",
   "nbconvert_exporter": "python",
   "pygments_lexer": "ipython3",
   "version": "3.6.5rc1"
  }
 },
 "nbformat": 4,
 "nbformat_minor": 2
}
